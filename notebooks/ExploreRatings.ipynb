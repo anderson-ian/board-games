{
 "cells": [
  {
   "cell_type": "code",
   "execution_count": null,
   "id": "ae36c60a",
   "metadata": {},
   "outputs": [],
   "source": [
    "import pandas as pd"
   ]
  },
  {
   "cell_type": "code",
   "execution_count": null,
   "id": "26c48a0b",
   "metadata": {},
   "outputs": [],
   "source": [
    "ratings = catalog.load('ratings')"
   ]
  },
  {
   "cell_type": "code",
   "execution_count": null,
   "id": "38df46f8",
   "metadata": {},
   "outputs": [],
   "source": [
    "ratings.head()"
   ]
  },
  {
   "cell_type": "code",
   "execution_count": null,
   "id": "3b60f13f",
   "metadata": {},
   "outputs": [],
   "source": [
    "pre_ratings = catalog.load('prepro_ratings')"
   ]
  },
  {
   "cell_type": "code",
   "execution_count": null,
   "id": "ea74d418",
   "metadata": {},
   "outputs": [],
   "source": [
    "pre_ratings.head()"
   ]
  },
  {
   "cell_type": "code",
   "execution_count": null,
   "id": "3486a982",
   "metadata": {},
   "outputs": [],
   "source": [
    "pre_ratings.describe()"
   ]
  },
  {
   "cell_type": "code",
   "execution_count": null,
   "id": "de09bf8a",
   "metadata": {},
   "outputs": [],
   "source": [
    "pre_ratings.name.describe()"
   ]
  },
  {
   "cell_type": "code",
   "execution_count": null,
   "id": "de9f66b8",
   "metadata": {},
   "outputs": [],
   "source": [
    "pre_ratings.loc[pre_ratings.year == 0]"
   ]
  },
  {
   "cell_type": "code",
   "execution_count": null,
   "id": "92f95cd1",
   "metadata": {},
   "outputs": [],
   "source": [
    "details = catalog.load(\"details\")\n",
    "details.head()"
   ]
  },
  {
   "cell_type": "code",
   "execution_count": null,
   "id": "a5164fd1",
   "metadata": {},
   "outputs": [],
   "source": [
    "for each in details.columns:\n",
    "    print(each)"
   ]
  },
  {
   "cell_type": "code",
   "execution_count": null,
   "id": "f4149166",
   "metadata": {},
   "outputs": [],
   "source": [
    "details.columns"
   ]
  },
  {
   "cell_type": "code",
   "execution_count": null,
   "id": "c5bc1e09",
   "metadata": {},
   "outputs": [],
   "source": [
    "prepro_details = catalog.load('prepro_details')\n",
    "prepro_details.head()"
   ]
  },
  {
   "cell_type": "code",
   "execution_count": null,
   "id": "55a35b02",
   "metadata": {},
   "outputs": [],
   "source": []
  }
 ],
 "metadata": {
  "kernelspec": {
   "display_name": "boardGames",
   "language": "python",
   "name": "python3"
  },
  "language_info": {
   "codemirror_mode": {
    "name": "ipython",
    "version": 3
   },
   "file_extension": ".py",
   "mimetype": "text/x-python",
   "name": "python",
   "nbconvert_exporter": "python",
   "pygments_lexer": "ipython3",
   "version": "3.8.12"
  }
 },
 "nbformat": 4,
 "nbformat_minor": 5
}
